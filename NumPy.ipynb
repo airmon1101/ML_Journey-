{
  "nbformat": 4,
  "nbformat_minor": 0,
  "metadata": {
    "colab": {
      "provenance": [],
      "include_colab_link": true
    },
    "kernelspec": {
      "name": "python3",
      "display_name": "Python 3"
    },
    "language_info": {
      "name": "python"
    }
  },
  "cells": [
    {
      "cell_type": "markdown",
      "metadata": {
        "id": "view-in-github",
        "colab_type": "text"
      },
      "source": [
        "<a href=\"https://colab.research.google.com/github/airmon1101/ML_Journey-/blob/main/NumPy.ipynb\" target=\"_parent\"><img src=\"https://colab.research.google.com/assets/colab-badge.svg\" alt=\"Open In Colab\"/></a>"
      ]
    },
    {
      "cell_type": "code",
      "execution_count": null,
      "metadata": {
        "id": "_oDIARnzGH82"
      },
      "outputs": [],
      "source": [
        "import numpy as np"
      ]
    },
    {
      "cell_type": "code",
      "source": [
        "mylist = [1, 2, 3]"
      ],
      "metadata": {
        "id": "zMPFQQzEGP7f"
      },
      "execution_count": null,
      "outputs": []
    },
    {
      "cell_type": "code",
      "source": [
        "type(mylist)"
      ],
      "metadata": {
        "colab": {
          "base_uri": "https://localhost:8080/"
        },
        "id": "ex6Bg56bGUk2",
        "outputId": "a4291a74-b966-4500-c32c-9f7753543261"
      },
      "execution_count": null,
      "outputs": [
        {
          "output_type": "execute_result",
          "data": {
            "text/plain": [
              "list"
            ]
          },
          "metadata": {},
          "execution_count": 41
        }
      ]
    },
    {
      "cell_type": "code",
      "source": [
        "myarr = np.array(mylist)"
      ],
      "metadata": {
        "id": "aCx5b2eIGUh_"
      },
      "execution_count": null,
      "outputs": []
    },
    {
      "cell_type": "code",
      "source": [
        "type(myarr)"
      ],
      "metadata": {
        "colab": {
          "base_uri": "https://localhost:8080/"
        },
        "id": "iM5UXSTaGUfR",
        "outputId": "8042b436-1bec-46ba-fe67-62d8d3831403"
      },
      "execution_count": null,
      "outputs": [
        {
          "output_type": "execute_result",
          "data": {
            "text/plain": [
              "numpy.ndarray"
            ]
          },
          "metadata": {},
          "execution_count": 43
        }
      ]
    },
    {
      "cell_type": "code",
      "source": [
        "# Create metrix\n",
        "my_matrix = [[1, 2, 3], [4, 5, 6], [7, 8, 9]]"
      ],
      "metadata": {
        "id": "dcHUExUxGUcJ"
      },
      "execution_count": null,
      "outputs": []
    },
    {
      "cell_type": "code",
      "source": [
        "my_matrix"
      ],
      "metadata": {
        "colab": {
          "base_uri": "https://localhost:8080/"
        },
        "id": "GQ7LEWq4GUZO",
        "outputId": "0da5d768-7464-4e07-a82c-0223d4d81069"
      },
      "execution_count": null,
      "outputs": [
        {
          "output_type": "execute_result",
          "data": {
            "text/plain": [
              "[[1, 2, 3], [4, 5, 6], [7, 8, 9]]"
            ]
          },
          "metadata": {},
          "execution_count": 45
        }
      ]
    },
    {
      "cell_type": "code",
      "source": [
        "np.arange(0, 10, 1) #(start, end, step)"
      ],
      "metadata": {
        "colab": {
          "base_uri": "https://localhost:8080/"
        },
        "id": "gvmNZ2TZGUVD",
        "outputId": "7bf24587-4780-4bca-e05f-244f11c7925e"
      },
      "execution_count": null,
      "outputs": [
        {
          "output_type": "execute_result",
          "data": {
            "text/plain": [
              "array([0, 1, 2, 3, 4, 5, 6, 7, 8, 9])"
            ]
          },
          "metadata": {},
          "execution_count": 46
        }
      ]
    },
    {
      "cell_type": "code",
      "source": [
        "# Create a 5,3 zeros matrix\n",
        "np.zeros((5, 3)) # You must use --> (())"
      ],
      "metadata": {
        "colab": {
          "base_uri": "https://localhost:8080/"
        },
        "id": "m-RaZJhnGURZ",
        "outputId": "5e0731f1-2290-454d-f323-509014373f54"
      },
      "execution_count": null,
      "outputs": [
        {
          "output_type": "execute_result",
          "data": {
            "text/plain": [
              "array([[0., 0., 0.],\n",
              "       [0., 0., 0.],\n",
              "       [0., 0., 0.],\n",
              "       [0., 0., 0.],\n",
              "       [0., 0., 0.]])"
            ]
          },
          "metadata": {},
          "execution_count": 47
        }
      ]
    },
    {
      "cell_type": "code",
      "source": [
        "# Create 3,5 ones metrix\n",
        "np.ones((3, 5))"
      ],
      "metadata": {
        "colab": {
          "base_uri": "https://localhost:8080/"
        },
        "id": "rqwA68cAGUN6",
        "outputId": "154e2b70-066b-4eab-9243-0dd18e3bf1c4"
      },
      "execution_count": null,
      "outputs": [
        {
          "output_type": "execute_result",
          "data": {
            "text/plain": [
              "array([[1., 1., 1., 1., 1.],\n",
              "       [1., 1., 1., 1., 1.],\n",
              "       [1., 1., 1., 1., 1.]])"
            ]
          },
          "metadata": {},
          "execution_count": 48
        }
      ]
    },
    {
      "cell_type": "code",
      "source": [
        "# Using linspace (np.linspace provide evenly spaced values)\n",
        "np.linspace(0, 10, 11) #(start, stop, quantity)"
      ],
      "metadata": {
        "colab": {
          "base_uri": "https://localhost:8080/"
        },
        "id": "-78-cG1QGUK3",
        "outputId": "6d250c23-5040-42e4-fba2-0d7158f4c033"
      },
      "execution_count": null,
      "outputs": [
        {
          "output_type": "execute_result",
          "data": {
            "text/plain": [
              "array([ 0.,  1.,  2.,  3.,  4.,  5.,  6.,  7.,  8.,  9., 10.])"
            ]
          },
          "metadata": {},
          "execution_count": 59
        }
      ]
    },
    {
      "cell_type": "code",
      "source": [
        "# Create a identity matrix OR square matrix using NumPy\n",
        "np.eye(5)"
      ],
      "metadata": {
        "colab": {
          "base_uri": "https://localhost:8080/"
        },
        "id": "Dz7i72YaGUGp",
        "outputId": "c136052c-e9f3-4888-a4c4-8b9f7e64174f"
      },
      "execution_count": null,
      "outputs": [
        {
          "output_type": "execute_result",
          "data": {
            "text/plain": [
              "array([[1., 0., 0., 0., 0.],\n",
              "       [0., 1., 0., 0., 0.],\n",
              "       [0., 0., 1., 0., 0.],\n",
              "       [0., 0., 0., 1., 0.],\n",
              "       [0., 0., 0., 0., 1.]])"
            ]
          },
          "metadata": {},
          "execution_count": 66
        }
      ]
    },
    {
      "cell_type": "code",
      "source": [
        "# Create a random matrix\n",
        "random_matrix = np.random.rand(5,5)\n",
        "\n",
        "# Use np.set_printoptions to set the precision\n",
        "np.set_printoptions(precision=2)\n",
        "\n",
        "random_matrix"
      ],
      "metadata": {
        "colab": {
          "base_uri": "https://localhost:8080/"
        },
        "id": "YgV_PpwTGUDk",
        "outputId": "103f9b7c-4f80-4347-dfee-71bf836a9439"
      },
      "execution_count": null,
      "outputs": [
        {
          "output_type": "execute_result",
          "data": {
            "text/plain": [
              "array([[0.77, 0.94, 0.6 , 0.7 , 0.1 ],\n",
              "       [0.66, 0.26, 0.42, 0.15, 0.19],\n",
              "       [0.16, 0.06, 0.18, 0.58, 0.39],\n",
              "       [0.91, 0.09, 0.98, 0.07, 0.68],\n",
              "       [0.53, 0.03, 0.21, 0.06, 0.88]])"
            ]
          },
          "metadata": {},
          "execution_count": 89
        }
      ]
    },
    {
      "cell_type": "code",
      "source": [
        "# set_printoption to 2\n",
        "np.set_printoptions(precision=2)\n",
        "# Create a vector using np,random.randn\n",
        "np.random.randn(5)"
      ],
      "metadata": {
        "colab": {
          "base_uri": "https://localhost:8080/"
        },
        "id": "dzxWBLvBGT_j",
        "outputId": "1cef9760-084f-4d2f-f544-eb29bde35175"
      },
      "execution_count": null,
      "outputs": [
        {
          "output_type": "execute_result",
          "data": {
            "text/plain": [
              "array([-0.39,  0.15,  1.4 ,  0.34,  0.5 ])"
            ]
          },
          "metadata": {},
          "execution_count": 94
        }
      ]
    },
    {
      "cell_type": "code",
      "source": [
        "# Create a 2,3 matrix using random.randn\n",
        "np.random.randn(2, 3)"
      ],
      "metadata": {
        "colab": {
          "base_uri": "https://localhost:8080/"
        },
        "id": "0G2CQfP6GT7U",
        "outputId": "09508a30-e004-49f0-d166-263abad3546e"
      },
      "execution_count": null,
      "outputs": [
        {
          "output_type": "execute_result",
          "data": {
            "text/plain": [
              "array([[-0.16,  2.59, -0.48],\n",
              "       [ 1.13, -0.21,  0.24]])"
            ]
          },
          "metadata": {},
          "execution_count": 100
        }
      ]
    },
    {
      "cell_type": "code",
      "source": [
        "# Print 10 random int numbers using np.random.randint()\n",
        "print(np.random.randint(0, 101, 10)) # (start, stop, enter how many number you want)"
      ],
      "metadata": {
        "colab": {
          "base_uri": "https://localhost:8080/"
        },
        "id": "wa7rZ6wPgc7X",
        "outputId": "4d61eb1c-29b5-4366-8e35-0693aa9af1a9"
      },
      "execution_count": null,
      "outputs": [
        {
          "output_type": "stream",
          "name": "stdout",
          "text": [
            "[  8  69 100  56  38  57   6  67  24  61]\n"
          ]
        }
      ]
    },
    {
      "cell_type": "code",
      "source": [
        "# Create a 5,5 matrix using random.randint\n",
        "# np.random.randint(100) # get a random number\n",
        "np.random.randint(0, 25,(5, 5)) #(start, end, (shape of a matrix = 5,5))"
      ],
      "metadata": {
        "colab": {
          "base_uri": "https://localhost:8080/"
        },
        "id": "LGD2gmBCGT34",
        "outputId": "de24bacc-847e-48aa-85f5-549bd3c2587f"
      },
      "execution_count": null,
      "outputs": [
        {
          "output_type": "execute_result",
          "data": {
            "text/plain": [
              "array([[24,  8, 15, 19, 24],\n",
              "       [15,  1, 14, 12, 23],\n",
              "       [22,  8, 15, 10, 11],\n",
              "       [ 8,  3,  6, 23,  7],\n",
              "       [19,  1, 10, 14,  3]])"
            ]
          },
          "metadata": {},
          "execution_count": 134
        }
      ]
    },
    {
      "cell_type": "code",
      "source": [
        "# Use this seed so you can produce exact same numbers like me\n",
        "np.random.seed(42) # random.seed only works in same cell\n",
        "np.random.rand(10)"
      ],
      "metadata": {
        "colab": {
          "base_uri": "https://localhost:8080/"
        },
        "id": "unNp1FFCGTz5",
        "outputId": "5dc83de1-bd8a-4d93-b615-18808875edb9"
      },
      "execution_count": null,
      "outputs": [
        {
          "output_type": "execute_result",
          "data": {
            "text/plain": [
              "array([0.37, 0.95, 0.73, 0.6 , 0.16, 0.16, 0.06, 0.87, 0.6 , 0.71])"
            ]
          },
          "metadata": {},
          "execution_count": 142
        }
      ]
    },
    {
      "cell_type": "code",
      "source": [
        "# Example this is a another cell\n",
        "# Write the same code without random seed function\n",
        "np.random.rand(10)"
      ],
      "metadata": {
        "colab": {
          "base_uri": "https://localhost:8080/"
        },
        "id": "F_AprKRCGTwk",
        "outputId": "bca54667-2091-4542-f988-cc89806da970"
      },
      "execution_count": null,
      "outputs": [
        {
          "output_type": "execute_result",
          "data": {
            "text/plain": [
              "array([0.61, 0.14, 0.29, 0.37, 0.46, 0.79, 0.2 , 0.51, 0.59, 0.05])"
            ]
          },
          "metadata": {},
          "execution_count": 144
        }
      ]
    },
    {
      "cell_type": "code",
      "source": [
        "# Create a array using arange() function\n",
        "arr = np.arange(0, 25)\n",
        "arr"
      ],
      "metadata": {
        "colab": {
          "base_uri": "https://localhost:8080/"
        },
        "id": "KbTtZo46GTq_",
        "outputId": "49020466-04d6-4d3d-a4e3-12176a89a4e4"
      },
      "execution_count": null,
      "outputs": [
        {
          "output_type": "execute_result",
          "data": {
            "text/plain": [
              "array([ 0,  1,  2,  3,  4,  5,  6,  7,  8,  9, 10, 11, 12, 13, 14, 15, 16,\n",
              "       17, 18, 19, 20, 21, 22, 23, 24])"
            ]
          },
          "metadata": {},
          "execution_count": 151
        }
      ]
    },
    {
      "cell_type": "code",
      "source": [
        "# Reshape this arr using .reshape() function\n",
        "arr.reshape(5, 5)"
      ],
      "metadata": {
        "colab": {
          "base_uri": "https://localhost:8080/"
        },
        "id": "wl-NHapWGTnq",
        "outputId": "94885a2b-fe00-4a7e-b63c-61d05569ae18"
      },
      "execution_count": null,
      "outputs": [
        {
          "output_type": "execute_result",
          "data": {
            "text/plain": [
              "array([[ 0,  1,  2,  3,  4],\n",
              "       [ 5,  6,  7,  8,  9],\n",
              "       [10, 11, 12, 13, 14],\n",
              "       [15, 16, 17, 18, 19],\n",
              "       [20, 21, 22, 23, 24]])"
            ]
          },
          "metadata": {},
          "execution_count": 152
        }
      ]
    },
    {
      "cell_type": "code",
      "source": [
        "# Create a random array using this randint() function\n",
        "ranarr = np.random.randint(0, 101, 10)\n",
        "ranarr"
      ],
      "metadata": {
        "colab": {
          "base_uri": "https://localhost:8080/"
        },
        "id": "Nex7MBzoGTkp",
        "outputId": "8898ade5-c673-465a-bd56-a2792ea6c7d9"
      },
      "execution_count": null,
      "outputs": [
        {
          "output_type": "execute_result",
          "data": {
            "text/plain": [
              "array([50,  6, 20, 72, 38, 17,  3, 88, 59, 13])"
            ]
          },
          "metadata": {},
          "execution_count": 153
        }
      ]
    },
    {
      "cell_type": "code",
      "source": [
        "# Find the maximum value in this array using .max() function\n",
        "ranarr.max()"
      ],
      "metadata": {
        "colab": {
          "base_uri": "https://localhost:8080/"
        },
        "id": "N3OYE98qGTgg",
        "outputId": "0b905cdf-4690-4ae1-c32c-b9b37d7b0741"
      },
      "execution_count": null,
      "outputs": [
        {
          "output_type": "execute_result",
          "data": {
            "text/plain": [
              "np.int64(88)"
            ]
          },
          "metadata": {},
          "execution_count": 156
        }
      ]
    },
    {
      "cell_type": "code",
      "source": [
        "# Find the maximum value element index location in array using armax() function\n",
        "ranarr.argmax()"
      ],
      "metadata": {
        "colab": {
          "base_uri": "https://localhost:8080/"
        },
        "id": "X7iMl1oNGTTo",
        "outputId": "e0dd6b85-38e8-4742-d624-76fc6119efd6"
      },
      "execution_count": null,
      "outputs": [
        {
          "output_type": "execute_result",
          "data": {
            "text/plain": [
              "np.int64(7)"
            ]
          },
          "metadata": {},
          "execution_count": 159
        }
      ]
    },
    {
      "cell_type": "code",
      "source": [
        "# Find the minimum value in this array using .min() function\n",
        "ranarr.min()"
      ],
      "metadata": {
        "colab": {
          "base_uri": "https://localhost:8080/"
        },
        "id": "htwJUeGbGTbX",
        "outputId": "2e983e56-e1be-493a-8d4a-20eff085cc3d"
      },
      "execution_count": null,
      "outputs": [
        {
          "output_type": "execute_result",
          "data": {
            "text/plain": [
              "np.int64(3)"
            ]
          },
          "metadata": {},
          "execution_count": 157
        }
      ]
    },
    {
      "cell_type": "code",
      "source": [
        "# Find the minimum value element index location in a array using argmin() function\n",
        "ranarr.argmin()"
      ],
      "metadata": {
        "colab": {
          "base_uri": "https://localhost:8080/"
        },
        "id": "UPXNRw5FGTMu",
        "outputId": "13a296e2-bb35-4930-a5d0-6e89d05cabc5"
      },
      "execution_count": null,
      "outputs": [
        {
          "output_type": "execute_result",
          "data": {
            "text/plain": [
              "np.int64(6)"
            ]
          },
          "metadata": {},
          "execution_count": 162
        }
      ]
    },
    {
      "cell_type": "code",
      "source": [
        "# Check dtype of an array using .dtype\n",
        "ranarr.dtype\n",
        "print(f\" ranarr = {ranarr} \\n lenth of ranarr = {len(ranarr)} \\n size of ranarr = {ranarr.size} \\n maximum value in ranarr = {ranarr.max()} \\n index of maximum value in ranarr = {ranarr.argmax()} \\n ranarr data type = {ranarr.dtype} \\n minimum value in ranarr = {ranarr.min()} \\n index of maximum value in ranarr = {ranarr.argmin()} \\n \")"
      ],
      "metadata": {
        "colab": {
          "base_uri": "https://localhost:8080/"
        },
        "id": "L3onrw02GTHE",
        "outputId": "643d5901-2f79-43a5-bc41-d64fe4076213"
      },
      "execution_count": null,
      "outputs": [
        {
          "output_type": "stream",
          "name": "stdout",
          "text": [
            " ranarr = [50  6 20 72 38 17  3 88 59 13] \n",
            " lenth of ranarr = 10 \n",
            " size of ranarr = 10 \n",
            " maximum value in ranarr = 88 \n",
            " index of maximum value in ranarr = 7 \n",
            " ranarr data type = int64 \n",
            " minimum value in ranarr = 3 \n",
            " index of maximum value in ranarr = 6 \n",
            " \n"
          ]
        }
      ]
    },
    {
      "cell_type": "code",
      "source": [
        "# 1D vector\n",
        "arr"
      ],
      "metadata": {
        "colab": {
          "base_uri": "https://localhost:8080/"
        },
        "id": "-xOiNucQGTB4",
        "outputId": "35fff00c-20cf-4e55-8bef-faaccd380c6f"
      },
      "execution_count": null,
      "outputs": [
        {
          "output_type": "execute_result",
          "data": {
            "text/plain": [
              "array([ 0,  1,  2,  3,  4,  5,  6,  7,  8,  9, 10, 11, 12, 13, 14, 15, 16,\n",
              "       17, 18, 19, 20, 21, 22, 23, 24])"
            ]
          },
          "metadata": {},
          "execution_count": 180
        }
      ]
    },
    {
      "cell_type": "code",
      "source": [
        "# Reshape = 5,5 and reassigned\n",
        "arr = arr.reshape(5,5)\n",
        "arr"
      ],
      "metadata": {
        "colab": {
          "base_uri": "https://localhost:8080/"
        },
        "id": "SeZb_Y0NGS8L",
        "outputId": "e689b8ca-4599-4fa6-981f-1a4bb9fc42a3"
      },
      "execution_count": null,
      "outputs": [
        {
          "output_type": "execute_result",
          "data": {
            "text/plain": [
              "array([[ 0,  1,  2,  3,  4],\n",
              "       [ 5,  6,  7,  8,  9],\n",
              "       [10, 11, 12, 13, 14],\n",
              "       [15, 16, 17, 18, 19],\n",
              "       [20, 21, 22, 23, 24]])"
            ]
          },
          "metadata": {},
          "execution_count": 184
        }
      ]
    },
    {
      "cell_type": "code",
      "source": [
        "# Reshape = 1,25 and reassigned\n",
        "# !!! --> Note this process add an extra dimension in this array\n",
        "arr = arr.reshape(1, 25)\n",
        "arr\n"
      ],
      "metadata": {
        "colab": {
          "base_uri": "https://localhost:8080/"
        },
        "id": "GO_6x-4fGS1a",
        "outputId": "e574a2a1-15f1-4745-9fdd-3049c6b48d2a"
      },
      "execution_count": null,
      "outputs": [
        {
          "output_type": "execute_result",
          "data": {
            "text/plain": [
              "array([[ 0,  1,  2,  3,  4,  5,  6,  7,  8,  9, 10, 11, 12, 13, 14, 15,\n",
              "        16, 17, 18, 19, 20, 21, 22, 23, 24]])"
            ]
          },
          "metadata": {},
          "execution_count": 186
        }
      ]
    },
    {
      "cell_type": "code",
      "source": [
        "# Reshape = 25,1 and reassigned\n",
        "# !!! --> Note this process add an extra dimension in this array\n",
        "arr = arr.reshape(25, 1)\n",
        "arr"
      ],
      "metadata": {
        "colab": {
          "base_uri": "https://localhost:8080/"
        },
        "id": "AV0RRlxaGSx6",
        "outputId": "2dc07b04-0544-4ca0-c0c5-f400103f9547"
      },
      "execution_count": null,
      "outputs": [
        {
          "output_type": "execute_result",
          "data": {
            "text/plain": [
              "array([[ 0],\n",
              "       [ 1],\n",
              "       [ 2],\n",
              "       [ 3],\n",
              "       [ 4],\n",
              "       [ 5],\n",
              "       [ 6],\n",
              "       [ 7],\n",
              "       [ 8],\n",
              "       [ 9],\n",
              "       [10],\n",
              "       [11],\n",
              "       [12],\n",
              "       [13],\n",
              "       [14],\n",
              "       [15],\n",
              "       [16],\n",
              "       [17],\n",
              "       [18],\n",
              "       [19],\n",
              "       [20],\n",
              "       [21],\n",
              "       [22],\n",
              "       [23],\n",
              "       [24]])"
            ]
          },
          "metadata": {},
          "execution_count": 187
        }
      ]
    },
    {
      "cell_type": "code",
      "source": [],
      "metadata": {
        "id": "UQyyaex1Iz7R"
      },
      "execution_count": null,
      "outputs": []
    },
    {
      "cell_type": "markdown",
      "source": [
        "Indexing and selection in NumPy\n",
        "\n",
        "*   Grabbing single element\n",
        "*   Grabbing a slice of elements\n",
        "*   Broadcasting selection\n",
        "*   Indexing and selection in 2-dimensions\n",
        "*   Conditional Selection\n",
        "\n"
      ],
      "metadata": {
        "id": "EufsRunsvev1"
      }
    },
    {
      "cell_type": "code",
      "source": [
        "import numpy as np"
      ],
      "metadata": {
        "id": "Ne9nsybIGSEF"
      },
      "execution_count": null,
      "outputs": []
    },
    {
      "cell_type": "code",
      "source": [
        "# Grabbing single element\n",
        "arr = np.arange(0, 11)\n",
        "arr"
      ],
      "metadata": {
        "id": "OJXC_yGNGSAw",
        "colab": {
          "base_uri": "https://localhost:8080/"
        },
        "outputId": "b058f734-caea-4352-a1f4-b773dcd1eaa5"
      },
      "execution_count": null,
      "outputs": [
        {
          "output_type": "execute_result",
          "data": {
            "text/plain": [
              "array([ 0,  1,  2,  3,  4,  5,  6,  7,  8,  9, 10])"
            ]
          },
          "metadata": {},
          "execution_count": 4
        }
      ]
    },
    {
      "cell_type": "code",
      "source": [
        "# print(arr[6])\n",
        "# OR\n",
        "arr[6]"
      ],
      "metadata": {
        "id": "f2RfkTi4GR9y",
        "colab": {
          "base_uri": "https://localhost:8080/"
        },
        "outputId": "e4be15a6-066e-4a43-d0cc-d7fb082ef82d"
      },
      "execution_count": null,
      "outputs": [
        {
          "output_type": "execute_result",
          "data": {
            "text/plain": [
              "np.int64(6)"
            ]
          },
          "metadata": {},
          "execution_count": 11
        }
      ]
    },
    {
      "cell_type": "code",
      "source": [
        "arr[1:5] #[start=1:end=5-1]"
      ],
      "metadata": {
        "id": "n2bIumj-GR6i",
        "colab": {
          "base_uri": "https://localhost:8080/"
        },
        "outputId": "ca0ef304-72d2-454b-81bc-1fbea2ee2e79"
      },
      "execution_count": null,
      "outputs": [
        {
          "output_type": "execute_result",
          "data": {
            "text/plain": [
              "array([1, 2, 3, 4])"
            ]
          },
          "metadata": {},
          "execution_count": 12
        }
      ]
    },
    {
      "cell_type": "code",
      "source": [
        "arr[0:5]# [start=0(start_default=0):end=5-1]\n",
        "# OR\n",
        "# arr[:5]"
      ],
      "metadata": {
        "colab": {
          "base_uri": "https://localhost:8080/"
        },
        "id": "6zAZqY9wMSwS",
        "outputId": "bbffeebb-db94-4a57-8c79-ffdd71a61a61"
      },
      "execution_count": null,
      "outputs": [
        {
          "output_type": "execute_result",
          "data": {
            "text/plain": [
              "array([0, 1, 2, 3, 4])"
            ]
          },
          "metadata": {},
          "execution_count": 13
        }
      ]
    },
    {
      "cell_type": "code",
      "source": [
        "arr[:5]# [start=0(start_default=0):end=5-1]\n",
        "# OR\n",
        "# arr[0:5]"
      ],
      "metadata": {
        "id": "floCfPKtGR3w",
        "colab": {
          "base_uri": "https://localhost:8080/"
        },
        "outputId": "10a20ddf-1d48-4eaa-c1dd-231859cbfd3c"
      },
      "execution_count": null,
      "outputs": [
        {
          "output_type": "execute_result",
          "data": {
            "text/plain": [
              "array([0, 1, 2, 3, 4])"
            ]
          },
          "metadata": {},
          "execution_count": 14
        }
      ]
    },
    {
      "cell_type": "code",
      "source": [
        "arr[5:]# [start=5:end=Last_Element]"
      ],
      "metadata": {
        "id": "wAj2tA4RGR0u",
        "colab": {
          "base_uri": "https://localhost:8080/"
        },
        "outputId": "c872c6ed-28f7-4968-cef2-54d2ba4c945e"
      },
      "execution_count": null,
      "outputs": [
        {
          "output_type": "execute_result",
          "data": {
            "text/plain": [
              "array([ 5,  6,  7,  8,  9, 10])"
            ]
          },
          "metadata": {},
          "execution_count": 15
        }
      ]
    },
    {
      "cell_type": "code",
      "source": [
        "# Broadcasting\n",
        "# OR\n",
        "# Reassing values of an array\n",
        "arr[0:5] = 300\n",
        "arr"
      ],
      "metadata": {
        "id": "p-BzXbs2GRyC",
        "colab": {
          "base_uri": "https://localhost:8080/"
        },
        "outputId": "db9ff846-efd4-4b47-999a-eb6cba0136c2"
      },
      "execution_count": null,
      "outputs": [
        {
          "output_type": "execute_result",
          "data": {
            "text/plain": [
              "array([300, 300, 300, 300, 300,   5,   6,   7,   8,   9,  10])"
            ]
          },
          "metadata": {},
          "execution_count": 25
        }
      ]
    },
    {
      "cell_type": "code",
      "source": [
        "# Reset this array\n",
        "arr = np.arange(0, 11)\n",
        "arr"
      ],
      "metadata": {
        "id": "-9wqvpGZGRvS",
        "colab": {
          "base_uri": "https://localhost:8080/"
        },
        "outputId": "c8226d45-4493-4d4c-8c3d-8ace7acfa16f"
      },
      "execution_count": null,
      "outputs": [
        {
          "output_type": "execute_result",
          "data": {
            "text/plain": [
              "array([ 0,  1,  2,  3,  4,  5,  6,  7,  8,  9, 10])"
            ]
          },
          "metadata": {},
          "execution_count": 17
        }
      ]
    },
    {
      "cell_type": "code",
      "source": [
        "slice_of_arr = arr[0:5] #OR arr[:5]\n",
        "slice_of_arr"
      ],
      "metadata": {
        "id": "MhlR9mpAGRsd",
        "colab": {
          "base_uri": "https://localhost:8080/"
        },
        "outputId": "95d222a1-3f01-474e-af04-8d49c8335252"
      },
      "execution_count": null,
      "outputs": [
        {
          "output_type": "execute_result",
          "data": {
            "text/plain": [
              "array([0, 1, 2, 3, 4])"
            ]
          },
          "metadata": {},
          "execution_count": 18
        }
      ]
    },
    {
      "cell_type": "code",
      "source": [
        "# Its share's same memory location\n",
        "slice_of_arr[:3] = 200\n",
        "slice_of_arr, arr"
      ],
      "metadata": {
        "id": "qSbtHdx5GRph",
        "colab": {
          "base_uri": "https://localhost:8080/"
        },
        "outputId": "79fa88a2-12c7-4942-eb1f-398d338f2cad"
      },
      "execution_count": null,
      "outputs": [
        {
          "output_type": "execute_result",
          "data": {
            "text/plain": [
              "(array([200, 200, 200,   3,   4]),\n",
              " array([200, 200, 200,   3,   4,   5,   6,   7,   8,   9,  10]))"
            ]
          },
          "metadata": {},
          "execution_count": 19
        }
      ]
    },
    {
      "cell_type": "code",
      "source": [
        "# Reset this array\n",
        "arr = np.arange(0, 11)\n",
        "arr"
      ],
      "metadata": {
        "id": "UIIuX7dhGRmO",
        "colab": {
          "base_uri": "https://localhost:8080/"
        },
        "outputId": "e41aa076-84d3-4eef-89dd-f28c944fb5b2"
      },
      "execution_count": null,
      "outputs": [
        {
          "output_type": "execute_result",
          "data": {
            "text/plain": [
              "array([ 0,  1,  2,  3,  4,  5,  6,  7,  8,  9, 10])"
            ]
          },
          "metadata": {},
          "execution_count": 20
        }
      ]
    },
    {
      "cell_type": "code",
      "source": [
        "# Use .copy() to resolve this issue\n",
        "arr_copy = arr.copy()\n",
        "arr_copy"
      ],
      "metadata": {
        "id": "lfgVIZ5IGRjT",
        "colab": {
          "base_uri": "https://localhost:8080/"
        },
        "outputId": "4d717a84-1700-47ce-b7f2-31286ff34a37"
      },
      "execution_count": null,
      "outputs": [
        {
          "output_type": "execute_result",
          "data": {
            "text/plain": [
              "array([ 0,  1,  2,  3,  4,  5,  6,  7,  8,  9, 10])"
            ]
          },
          "metadata": {},
          "execution_count": 21
        }
      ]
    },
    {
      "cell_type": "code",
      "source": [
        "# Broadcasting of an array\n",
        "arr_copy[2:8] = 100\n",
        "# Problem solved\n",
        "arr_copy, arr"
      ],
      "metadata": {
        "id": "XtA75xvIGRgQ",
        "colab": {
          "base_uri": "https://localhost:8080/"
        },
        "outputId": "d34f0d74-5ea3-4b18-dcf0-5dd5cb8ba869"
      },
      "execution_count": null,
      "outputs": [
        {
          "output_type": "execute_result",
          "data": {
            "text/plain": [
              "(array([  0,   1, 100, 100, 100, 100, 100, 100,   8,   9,  10]),\n",
              " array([ 0,  1,  2,  3,  4,  5,  6,  7,  8,  9, 10]))"
            ]
          },
          "metadata": {},
          "execution_count": 22
        }
      ]
    },
    {
      "cell_type": "code",
      "source": [
        "arr_2d = np.array([[5, 10, 15], [20, 25, 30], [35, 40, 45]])\n",
        "arr_2d"
      ],
      "metadata": {
        "id": "p2hT0GIsGROf",
        "colab": {
          "base_uri": "https://localhost:8080/"
        },
        "outputId": "5419e543-32d1-4229-9094-7a63e29110f9"
      },
      "execution_count": null,
      "outputs": [
        {
          "output_type": "execute_result",
          "data": {
            "text/plain": [
              "array([[ 5, 10, 15],\n",
              "       [20, 25, 30],\n",
              "       [35, 40, 45]])"
            ]
          },
          "metadata": {},
          "execution_count": 23
        }
      ]
    },
    {
      "cell_type": "code",
      "source": [
        "# indexing in 2D array\n"
      ],
      "metadata": {
        "id": "ncw2Q9zeGRLB"
      },
      "execution_count": null,
      "outputs": []
    },
    {
      "cell_type": "code",
      "source": [],
      "metadata": {
        "id": "GV5YEhvoGRIA"
      },
      "execution_count": null,
      "outputs": []
    },
    {
      "cell_type": "code",
      "source": [],
      "metadata": {
        "id": "keP8g-rRGRFL"
      },
      "execution_count": null,
      "outputs": []
    },
    {
      "cell_type": "code",
      "source": [],
      "metadata": {
        "id": "eE6dO39HGRCi"
      },
      "execution_count": null,
      "outputs": []
    },
    {
      "cell_type": "code",
      "source": [],
      "metadata": {
        "id": "2ddyS0W0GQ_y"
      },
      "execution_count": null,
      "outputs": []
    },
    {
      "cell_type": "code",
      "source": [],
      "metadata": {
        "id": "-F0JHWDJGQ8y"
      },
      "execution_count": null,
      "outputs": []
    },
    {
      "cell_type": "code",
      "source": [],
      "metadata": {
        "id": "3AImccwlGQ5z"
      },
      "execution_count": null,
      "outputs": []
    },
    {
      "cell_type": "code",
      "source": [],
      "metadata": {
        "id": "fFJb4WIGGQ3G"
      },
      "execution_count": null,
      "outputs": []
    },
    {
      "cell_type": "code",
      "source": [],
      "metadata": {
        "id": "Bzl5mYpkGQzK"
      },
      "execution_count": null,
      "outputs": []
    },
    {
      "cell_type": "code",
      "source": [],
      "metadata": {
        "id": "TvyYcZKjGQsj"
      },
      "execution_count": null,
      "outputs": []
    }
  ]
}